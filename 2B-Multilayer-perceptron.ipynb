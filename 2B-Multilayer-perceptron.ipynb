{
 "cells": [
  {
   "cell_type": "markdown",
   "id": "7b1b9503",
   "metadata": {},
   "source": [
    "### Nonlinearities"
   ]
  },
  {
   "cell_type": "code",
   "execution_count": 1,
   "id": "319990c3",
   "metadata": {},
   "outputs": [],
   "source": [
    "import torch\n",
    "\n",
    "x = torch.rand(5, 3) * 2 -1"
   ]
  },
  {
   "cell_type": "code",
   "execution_count": 2,
   "id": "545e5369",
   "metadata": {},
   "outputs": [
    {
     "data": {
      "text/plain": [
       "tensor([[ 0.4402,  0.9480,  0.4803],\n",
       "        [-0.8250, -0.6869,  0.3230],\n",
       "        [-0.8393, -0.3939, -0.9129],\n",
       "        [-0.7032, -0.0716,  0.6498],\n",
       "        [-0.1082,  0.6263,  0.4068]])"
      ]
     },
     "execution_count": 2,
     "metadata": {},
     "output_type": "execute_result"
    }
   ],
   "source": [
    "x"
   ]
  },
  {
   "cell_type": "code",
   "execution_count": 3,
   "id": "64024c4f",
   "metadata": {},
   "outputs": [],
   "source": [
    "x_relu_max = torch.max(torch.zeros_like(x), x) #compara un matriz de ceros contra la matriz x"
   ]
  },
  {
   "cell_type": "code",
   "execution_count": 5,
   "id": "4a882f99",
   "metadata": {},
   "outputs": [
    {
     "data": {
      "text/plain": [
       "tensor([[0.4402, 0.9480, 0.4803],\n",
       "        [0.0000, 0.0000, 0.3230],\n",
       "        [0.0000, 0.0000, 0.0000],\n",
       "        [0.0000, 0.0000, 0.6498],\n",
       "        [0.0000, 0.6263, 0.4068]])"
      ]
     },
     "execution_count": 5,
     "metadata": {},
     "output_type": "execute_result"
    }
   ],
   "source": [
    "x_relu_max"
   ]
  },
  {
   "cell_type": "code",
   "execution_count": 6,
   "id": "09454590",
   "metadata": {},
   "outputs": [
    {
     "name": "stdout",
     "output_type": "stream",
     "text": [
      "x: tensor([[ 0.4402,  0.9480,  0.4803],\n",
      "        [-0.8250, -0.6869,  0.3230],\n",
      "        [-0.8393, -0.3939, -0.9129],\n",
      "        [-0.7032, -0.0716,  0.6498],\n",
      "        [-0.1082,  0.6263,  0.4068]])\n",
      "x after ReLU with max: tensor([[0.4402, 0.9480, 0.4803],\n",
      "        [0.0000, 0.0000, 0.3230],\n",
      "        [0.0000, 0.0000, 0.0000],\n",
      "        [0.0000, 0.0000, 0.6498],\n",
      "        [0.0000, 0.6263, 0.4068]])\n"
     ]
    }
   ],
   "source": [
    "print(\"x: {}\".format(x))\n",
    "print(\"x after ReLU with max: {}\".format(x_relu_max))"
   ]
  },
  {
   "cell_type": "code",
   "execution_count": 9,
   "id": "6ea3deba",
   "metadata": {},
   "outputs": [
    {
     "name": "stdout",
     "output_type": "stream",
     "text": [
      "x after ReLU with nn.functional: tensor([[0.4402, 0.9480, 0.4803],\n",
      "        [0.0000, 0.0000, 0.3230],\n",
      "        [0.0000, 0.0000, 0.0000],\n",
      "        [0.0000, 0.0000, 0.6498],\n",
      "        [0.0000, 0.6263, 0.4068]])\n"
     ]
    }
   ],
   "source": [
    "#torch ya tiene ReLU implementado\n",
    "import torch.nn.functional as F\n",
    "\n",
    "x_relu_F = F.relu(x)\n",
    "print(\"x after ReLU with nn.functional: {}\".format(x_relu_F))#da lo mismo que arriba"
   ]
  },
  {
   "cell_type": "code",
   "execution_count": null,
   "id": "9fb9d58d",
   "metadata": {},
   "outputs": [],
   "source": []
  }
 ],
 "metadata": {
  "kernelspec": {
   "display_name": "Python 3 (ipykernel)",
   "language": "python",
   "name": "python3"
  },
  "language_info": {
   "codemirror_mode": {
    "name": "ipython",
    "version": 3
   },
   "file_extension": ".py",
   "mimetype": "text/x-python",
   "name": "python",
   "nbconvert_exporter": "python",
   "pygments_lexer": "ipython3",
   "version": "3.9.7"
  }
 },
 "nbformat": 4,
 "nbformat_minor": 5
}
